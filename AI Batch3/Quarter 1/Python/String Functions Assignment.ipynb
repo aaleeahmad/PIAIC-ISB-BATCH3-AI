{
 "cells": [
  {
   "cell_type": "markdown",
   "metadata": {},
   "source": [
    "# PIAIC_ISLAMABAD_BATCH_3/ARTIFICIAL INTELLIGENCE\n",
    "###### Name: Tanzeel Ahmad\n",
    "###### Roll No: PIAIC73909\n",
    "###### Course: AIC\n",
    "###### Class Timing: 06:45 PM to 09:45 Pm\n",
    "###### Quarter: Q1\n",
    "###### Batch 3\n",
    "###### Date: 29-11-2019"
   ]
  },
  {
   "cell_type": "code",
   "execution_count": 1,
   "metadata": {},
   "outputs": [
    {
     "name": "stdout",
     "output_type": "stream",
     "text": [
      "The Zen of Python, by Tim Peters\n",
      "\n",
      "Beautiful is better than ugly.\n",
      "Explicit is better than implicit.\n",
      "Simple is better than complex.\n",
      "Complex is better than complicated.\n",
      "Flat is better than nested.\n",
      "Sparse is better than dense.\n",
      "Readability counts.\n",
      "Special cases aren't special enough to break the rules.\n",
      "Although practicality beats purity.\n",
      "Errors should never pass silently.\n",
      "Unless explicitly silenced.\n",
      "In the face of ambiguity, refuse the temptation to guess.\n",
      "There should be one-- and preferably only one --obvious way to do it.\n",
      "Although that way may not be obvious at first unless you're Dutch.\n",
      "Now is better than never.\n",
      "Although never is often better than *right* now.\n",
      "If the implementation is hard to explain, it's a bad idea.\n",
      "If the implementation is easy to explain, it may be a good idea.\n",
      "Namespaces are one honking great idea -- let's do more of those!\n"
     ]
    }
   ],
   "source": [
    "import this"
   ]
  },
  {
   "cell_type": "markdown",
   "metadata": {},
   "source": [
    "**When we assign values to some veriable after that we want to use that value and its address\n",
    "then, Here we use deep value and shello value techniques!**\n",
    "\n",
    "###### Deep Value and Shello value"
   ]
  },
  {
   "cell_type": "code",
   "execution_count": 2,
   "metadata": {},
   "outputs": [
    {
     "name": "stdout",
     "output_type": "stream",
     "text": [
      "8\n",
      "8\n",
      "140721171636848\n",
      "140721171636848\n"
     ]
    }
   ],
   "source": [
    "a=2\n",
    "b=2\n",
    "print(a)\n",
    "print(b)\n",
    "\n",
    "print(id(a))\n",
    "print(id(b))"
   ]
  },
  {
   "cell_type": "markdown",
   "metadata": {},
   "source": [
    "We can access data directly by using its value and address with veriable name and id() built-in function respectively.Python provide the facility of Memory Management by placing same value that is assigned to different veriables at a single memory address whenever it is not changed.\n",
    "\n",
    "Above example shows that veriables a and b have same vlaue that is \"2\" so this value is going to store at same memory address (140721171636848) in storage instead of different memory location that cause excess use of memory which is avoided in Python."
   ]
  },
  {
   "cell_type": "markdown",
   "metadata": {},
   "source": [
    "**Data Type**\n",
    "To check data type of any veriale python has built-in function type(parameter)"
   ]
  },
  {
   "cell_type": "code",
   "execution_count": 3,
   "metadata": {},
   "outputs": [
    {
     "name": "stdout",
     "output_type": "stream",
     "text": [
      "<class 'int'>\n",
      "<class 'str'>\n",
      "55\n",
      "<class 'int'>\n",
      "62\n"
     ]
    }
   ],
   "source": [
    "a = 3\n",
    "print(type(a))\n",
    "a = '5'\n",
    "print(type(a))\n",
    "a = a + '5'    \n",
    "                # Adding two values if both string then they concatinate\n",
    "print(a)\n",
    "                # If we want to convert one veriable data type to another called type casting\n",
    "b = int(a) + 7\n",
    "print(type(b))\n",
    "print(b)"
   ]
  },
  {
   "cell_type": "code",
   "execution_count": 4,
   "metadata": {},
   "outputs": [
    {
     "data": {
      "text/plain": [
       "['__add__',\n",
       " '__class__',\n",
       " '__contains__',\n",
       " '__delattr__',\n",
       " '__dir__',\n",
       " '__doc__',\n",
       " '__eq__',\n",
       " '__format__',\n",
       " '__ge__',\n",
       " '__getattribute__',\n",
       " '__getitem__',\n",
       " '__getnewargs__',\n",
       " '__gt__',\n",
       " '__hash__',\n",
       " '__init__',\n",
       " '__init_subclass__',\n",
       " '__iter__',\n",
       " '__le__',\n",
       " '__len__',\n",
       " '__lt__',\n",
       " '__mod__',\n",
       " '__mul__',\n",
       " '__ne__',\n",
       " '__new__',\n",
       " '__reduce__',\n",
       " '__reduce_ex__',\n",
       " '__repr__',\n",
       " '__rmod__',\n",
       " '__rmul__',\n",
       " '__setattr__',\n",
       " '__sizeof__',\n",
       " '__str__',\n",
       " '__subclasshook__',\n",
       " 'capitalize',\n",
       " 'casefold',\n",
       " 'center',\n",
       " 'count',\n",
       " 'encode',\n",
       " 'endswith',\n",
       " 'expandtabs',\n",
       " 'find',\n",
       " 'format',\n",
       " 'format_map',\n",
       " 'index',\n",
       " 'isalnum',\n",
       " 'isalpha',\n",
       " 'isascii',\n",
       " 'isdecimal',\n",
       " 'isdigit',\n",
       " 'isidentifier',\n",
       " 'islower',\n",
       " 'isnumeric',\n",
       " 'isprintable',\n",
       " 'isspace',\n",
       " 'istitle',\n",
       " 'isupper',\n",
       " 'join',\n",
       " 'ljust',\n",
       " 'lower',\n",
       " 'lstrip',\n",
       " 'maketrans',\n",
       " 'partition',\n",
       " 'replace',\n",
       " 'rfind',\n",
       " 'rindex',\n",
       " 'rjust',\n",
       " 'rpartition',\n",
       " 'rsplit',\n",
       " 'rstrip',\n",
       " 'split',\n",
       " 'splitlines',\n",
       " 'startswith',\n",
       " 'strip',\n",
       " 'swapcase',\n",
       " 'title',\n",
       " 'translate',\n",
       " 'upper',\n",
       " 'zfill']"
      ]
     },
     "execution_count": 4,
     "metadata": {},
     "output_type": "execute_result"
    }
   ],
   "source": [
    "a = \"Aalee Ahmad\"\n",
    "dir(a)\n",
    "# Want to know which fuction/methods and attributes can be applied to string a"
   ]
  },
  {
   "cell_type": "markdown",
   "metadata": {},
   "source": [
    "###### Operation can be applied by two types\n",
    "1: In-Memory<br>\n",
    "2: In-line"
   ]
  },
  {
   "cell_type": "code",
   "execution_count": 31,
   "metadata": {},
   "outputs": [
    {
     "name": "stdout",
     "output_type": "stream",
     "text": [
      "AALEE AHMAD\n",
      "aAlEe AhMaD\n"
     ]
    }
   ],
   "source": [
    "a = \"aAlEe AhMaD\"\n",
    "print(a.upper()) # Inline Operation\n",
    "print(a)"
   ]
  },
  {
   "cell_type": "code",
   "execution_count": 32,
   "metadata": {},
   "outputs": [
    {
     "name": "stdout",
     "output_type": "stream",
     "text": [
      "AALEE AHMAD\n"
     ]
    }
   ],
   "source": [
    "a = \"aAlEe AhMaD\"\n",
    "a = a.upper() # In Memory Operation\n",
    "print(a)"
   ]
  },
  {
   "cell_type": "code",
   "execution_count": 33,
   "metadata": {},
   "outputs": [
    {
     "name": "stdout",
     "output_type": "stream",
     "text": [
      "Aalee Ahmad\n",
      "aAlEe AhMaD\n"
     ]
    }
   ],
   "source": [
    "a = \"aAlEe AhMaD\"\n",
    "print(a.title())\n",
    "print(a)"
   ]
  },
  {
   "cell_type": "code",
   "execution_count": 34,
   "metadata": {},
   "outputs": [
    {
     "name": "stdout",
     "output_type": "stream",
     "text": [
      "Aalee ahmad\n",
      "aAlEe AhMaD\n"
     ]
    }
   ],
   "source": [
    "a = \"aAlEe AhMaD\"\n",
    "print(a.capitalize())\n",
    "print(a)"
   ]
  },
  {
   "cell_type": "code",
   "execution_count": 10,
   "metadata": {},
   "outputs": [
    {
     "name": "stdout",
     "output_type": "stream",
     "text": [
      "34\n",
      "aAlEe AhMaD\n",
      "11\n",
      "We saved  23  Charecters Space/Memory \n"
     ]
    }
   ],
   "source": [
    "a = \"            aAlEe AhMaD           \"\n",
    "print(len(a))\n",
    "print(a.strip())\n",
    "b = len(a.strip())\n",
    "print(b)\n",
    "print('We saved ',len(a) - b,' Charecters Space/Memory ')"
   ]
  },
  {
   "cell_type": "code",
   "execution_count": 11,
   "metadata": {},
   "outputs": [
    {
     "name": "stdout",
     "output_type": "stream",
     "text": [
      "['aAlEe', 'AhMaD']\n"
     ]
    }
   ],
   "source": [
    "c = a.split()\n",
    "# Divide string into list where data is available in strig (Ignore spaces)\n",
    "print(c)"
   ]
  },
  {
   "cell_type": "code",
   "execution_count": 12,
   "metadata": {},
   "outputs": [
    {
     "name": "stdout",
     "output_type": "stream",
     "text": [
      "aAlEe AhMaD\n"
     ]
    }
   ],
   "source": [
    "d = \" \".join(c)\n",
    "# Join two or more list' elements\n",
    "print(d)"
   ]
  },
  {
   "cell_type": "code",
   "execution_count": 20,
   "metadata": {},
   "outputs": [
    {
     "name": "stdout",
     "output_type": "stream",
     "text": [
      "You get what you\n",
      "!rof hsiw uoy tahw toN ,rof krow uoy tahw teg uoY\n"
     ]
    }
   ],
   "source": [
    "a = \"You get what you work for, Not what you wish for!\"\n",
    "# Slicing : Same as indexing but access more than one vlaues\n",
    "b = a[0:16:1]\n",
    "# veriable[start:end:step] --> end is not included..\n",
    "print(b)\n",
    "print(a[::-1])\n",
    "# Right to left slicing"
   ]
  },
  {
   "cell_type": "code",
   "execution_count": 30,
   "metadata": {},
   "outputs": [
    {
     "name": "stdout",
     "output_type": "stream",
     "text": [
      "work\n"
     ]
    }
   ],
   "source": [
    "# Search using index\n",
    "print(a[a.index(\"work\"):21])"
   ]
  },
  {
   "cell_type": "code",
   "execution_count": 35,
   "metadata": {},
   "outputs": [
    {
     "data": {
      "text/plain": [
       "17"
      ]
     },
     "execution_count": 35,
     "metadata": {},
     "output_type": "execute_result"
    }
   ],
   "source": [
    "a = \"You get what you work for, Not what you wish for!\"\n",
    "a.find(\"work\")"
   ]
  },
  {
   "cell_type": "code",
   "execution_count": 37,
   "metadata": {},
   "outputs": [
    {
     "name": "stdout",
     "output_type": "stream",
     "text": [
      "Search:for\n",
      "for\n"
     ]
    },
    {
     "data": {
      "text/plain": [
       "'for, Not what you wish for!'"
      ]
     },
     "execution_count": 37,
     "metadata": {},
     "output_type": "execute_result"
    }
   ],
   "source": [
    "b = input(\"Search:\")\n",
    "print(a[a.index(b): a.index(b)+len(b)])\n",
    "a[a.index(b): ]"
   ]
  },
  {
   "cell_type": "code",
   "execution_count": 50,
   "metadata": {},
   "outputs": [
    {
     "name": "stdout",
     "output_type": "stream",
     "text": [
      "\n",
      "Name: Tanzeel Ahmad\n",
      "Father's Name: Mian Ahmad Nawaz\n",
      "Course: AI\n",
      "\n"
     ]
    }
   ],
   "source": [
    "# Multiline string\n",
    "card = \"\"\"\n",
    "Name: Tanzeel Ahmad\n",
    "Father's Name: Mian Ahmad Nawaz\n",
    "Course: AI\n",
    "\"\"\"\n",
    "print(card)"
   ]
  },
  {
   "cell_type": "code",
   "execution_count": 38,
   "metadata": {},
   "outputs": [
    {
     "name": "stdout",
     "output_type": "stream",
     "text": [
      "\n",
      "PIAIC ISLAMABAD\n",
      "Bahria University \n",
      "Name: Tanzeel Ahmad\n",
      "Father's Name: Mian Ahmad Nawaz\n",
      "\n"
     ]
    }
   ],
   "source": [
    "card = \"\"\"\n",
    "PIAIC ISLAMABAD\n",
    "Bahria University \n",
    "Name: Tanzeel Ahmad\n",
    "Father's Name: Mian Ahmad Nawaz\n",
    "\"\"\"\n",
    "\n",
    "print(card)"
   ]
  },
  {
   "cell_type": "code",
   "execution_count": 40,
   "metadata": {},
   "outputs": [
    {
     "name": "stdout",
     "output_type": "stream",
     "text": [
      "\n",
      "PIAIC ISLAMABAD\n",
      "Bahria University \n",
      "Name: Tanzeel Ahmad\n",
      "Father's Name: Mian Ahmad Nawaz\n",
      "Fee : 3000\n",
      "\n"
     ]
    }
   ],
   "source": [
    "student_name = \"Tanzeel Ahmad\"\n",
    "f_name = \"Mian Ahmad Nawaz\"\n",
    "fee = 3000\n",
    "card = \"\"\"\n",
    "PIAIC ISLAMABAD\n",
    "Bahria University \n",
    "Name: %s\n",
    "Father's Name: %s\n",
    "Fee : %d\n",
    "\"\"\"\n",
    "print(card%(student_name,f_name, fee))"
   ]
  },
  {
   "cell_type": "code",
   "execution_count": 42,
   "metadata": {},
   "outputs": [
    {
     "name": "stdout",
     "output_type": "stream",
     "text": [
      "Name:Tanzeel Ahmad\n",
      "Father's name: Mian Ahmad Nawaz\n",
      "Fee3000\n",
      "\n",
      "PIAIC ISLAMABAD\n",
      "Bahria University \n",
      "Name: Tanzeel Ahmad\n",
      "Father's Name: Mian Ahmad Nawaz\n",
      "Fee : 3000\n",
      "\n"
     ]
    }
   ],
   "source": [
    "student_name = input(\"Name:\")\n",
    "f_name = input(\"Father's name: \")\n",
    "fee = int(input(\"Fee\"))\n",
    "card = \"\"\"\n",
    "PIAIC ISLAMABAD\n",
    "Bahria University \n",
    "Name: %s\n",
    "Father's Name: %s\n",
    "Fee : %d\n",
    "\"\"\"\n",
    "print(card%(student_name,f_name, fee))"
   ]
  },
  {
   "cell_type": "code",
   "execution_count": 47,
   "metadata": {},
   "outputs": [
    {
     "name": "stdout",
     "output_type": "stream",
     "text": [
      "\n",
      "Bahria University Islamabad\n",
      "Student Name: Tanzeel Ahmad\n",
      "Father's Name: Mian Ahmad Nawaz\n",
      "Fee: 3000\n",
      "\n"
     ]
    }
   ],
   "source": [
    "name = \"Tanzeel Ahmad\"\n",
    "fname = \"Mian Ahmad Nawaz\"\n",
    "fee = 3000\n",
    "\n",
    "a=f\"\"\"\n",
    "Bahria University Islamabad\n",
    "Student Name: {name}\n",
    "Father's Name: {fname}\n",
    "Fee: {fee}\n",
    "\"\"\"\n",
    "print(a)"
   ]
  },
  {
   "cell_type": "code",
   "execution_count": 45,
   "metadata": {},
   "outputs": [
    {
     "name": "stdout",
     "output_type": "stream",
     "text": [
      "\n",
      "Bahria University Islamabad\n",
      "Student Name: Tanzeel Ahmad\n",
      "Father's Name: Mian Ahmad Nawaz\n",
      "Fee: 3000\n",
      "\n"
     ]
    }
   ],
   "source": [
    "name = \"Tanzeel Ahmad\"\n",
    "fname = \"Mian Ahmad Nawaz\"\n",
    "fee = 3000\n",
    "\n",
    "a=\"\"\"\n",
    "Bahria University Islamabad\n",
    "Student Name: {}\n",
    "Father's Name: {}\n",
    "Fee: {}\n",
    "\"\"\"\n",
    "print(a.format(name, fname,fee))"
   ]
  },
  {
   "cell_type": "code",
   "execution_count": 48,
   "metadata": {},
   "outputs": [
    {
     "name": "stdout",
     "output_type": "stream",
     "text": [
      "\n",
      "Bahria University Islamabad\n",
      "Student Name: Tanzeel Ahmad\n",
      "Father's Name: Mian Ahmad Nawaz\n",
      "Fee: 3000\n",
      "\n"
     ]
    }
   ],
   "source": [
    "name = \"Tanzeel Ahmad\"\n",
    "fname = \"Mian Ahmad Nawaz\"\n",
    "fee = 3000\n",
    "\n",
    "a=\"\"\"\n",
    "Bahria University Islamabad\n",
    "Student Name: {sn}\n",
    "Father's Name: {fn}\n",
    "Fee: {f}\n",
    "\"\"\"\n",
    "print(a.format(f=fee, fn=fname, sn=name))"
   ]
  },
  {
   "cell_type": "code",
   "execution_count": 54,
   "metadata": {},
   "outputs": [
    {
     "name": "stdout",
     "output_type": "stream",
     "text": [
      "Bahria University Islamabad \n",
      "Student Name: Tanzeel Ahmad\n",
      "Father's Name:  \n",
      "Mian Ahmad Nawaz\n",
      "Fee: 3000\n"
     ]
    }
   ],
   "source": [
    "name = \"Tanzeel Ahmad\"\n",
    "fname = \"Mian Ahmad Nawaz\"\n",
    "fee = 3000\n",
    "\n",
    "print(\"Bahria University Islamabad \\nStudent Name: \" + name + \"\\nFather's Name:  \\n\"+fname+\"\\nFee: \"+str(fee))"
   ]
  },
  {
   "cell_type": "markdown",
   "metadata": {},
   "source": [
    "# END!"
   ]
  }
 ],
 "metadata": {
  "kernelspec": {
   "display_name": "Python 3",
   "language": "python",
   "name": "python3"
  },
  "language_info": {
   "codemirror_mode": {
    "name": "ipython",
    "version": 3
   },
   "file_extension": ".py",
   "mimetype": "text/x-python",
   "name": "python",
   "nbconvert_exporter": "python",
   "pygments_lexer": "ipython3",
   "version": "3.7.4"
  }
 },
 "nbformat": 4,
 "nbformat_minor": 2
}
